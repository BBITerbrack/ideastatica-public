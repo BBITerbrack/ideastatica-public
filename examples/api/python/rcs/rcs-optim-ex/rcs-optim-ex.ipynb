{
 "cells": [
  {
   "cell_type": "code",
   "execution_count": 1,
   "id": "4a68071f-67e6-465d-b465-c661660a258f",
   "metadata": {},
   "outputs": [
    {
     "name": "stdout",
     "output_type": "stream",
     "text": [
      "Requirement already satisfied: ideastatica-rcs-client in c:\\users\\martin pospisil\\anaconda3\\lib\\site-packages (23.1.3.516)\n",
      "Requirement already satisfied: xmltodict in c:\\users\\martin pospisil\\anaconda3\\lib\\site-packages (0.13.0)\n",
      "Requirement already satisfied: pandas in c:\\users\\martin pospisil\\anaconda3\\lib\\site-packages (2.0.3)\n",
      "Requirement already satisfied: python-dateutil>=2.8.2 in c:\\users\\martin pospisil\\anaconda3\\lib\\site-packages (from pandas) (2.8.2)\n",
      "Requirement already satisfied: pytz>=2020.1 in c:\\users\\martin pospisil\\anaconda3\\lib\\site-packages (from pandas) (2023.3.post1)\n",
      "Requirement already satisfied: tzdata>=2022.1 in c:\\users\\martin pospisil\\anaconda3\\lib\\site-packages (from pandas) (2023.3)\n",
      "Requirement already satisfied: numpy>=1.21.0 in c:\\users\\martin pospisil\\anaconda3\\lib\\site-packages (from pandas) (1.24.3)\n",
      "Requirement already satisfied: six>=1.5 in c:\\users\\martin pospisil\\anaconda3\\lib\\site-packages (from python-dateutil>=2.8.2->pandas) (1.16.0)\n"
     ]
    }
   ],
   "source": [
    "#install all required packages \n",
    "!pip install ideastatica-rcs-client\n",
    "!pip install xmltodict\n",
    "!pip install pandas"
   ]
  },
  {
   "cell_type": "code",
   "execution_count": 2,
   "id": "9aa18f1d-c4af-42fa-9b52-52eac15e0933",
   "metadata": {},
   "outputs": [
    {
     "name": "stdout",
     "output_type": "stream",
     "text": [
      "ideastatica_rcs_client package initialized\n",
      "TcpPort : 54543\n",
      "IdeaStatiCaSetupDir : C:\\Program Files\\IDEA StatiCa\\StatiCa 23.1\\\n",
      "RcsApiServicePath : C:\\Program Files\\IDEA StatiCa\\StatiCa 23.1\\net6.0-windows\\IdeaStatiCa.RcsRestApi.exe\n",
      "None\n",
      "Sections in the project\n",
      "secId: 1 'S 1' rfCssId = 1 memberId = 1\n",
      "secId: 3 'S 2' rfCssId = 1 memberId = 1\n",
      "Reinforced cross-sections in the project\n",
      "1 'R 1' 1\n",
      "closing IdeaStatiCa.RcsRestApi.exe\n"
     ]
    }
   ],
   "source": [
    "import project_calculator\n",
    "\n",
    "# file name of a rsc project to be calculate\n",
    "project_to_calculate = r\"Project2.IdeaRcs\"\n",
    "\n",
    "# det details from the rcs project\n",
    "project_calculator.get_section_details(project_to_calculate)"
   ]
  },
  {
   "cell_type": "code",
   "execution_count": 3,
   "id": "80ec9437-833e-4ba2-b616-25e8a312528a",
   "metadata": {
    "tags": []
   },
   "outputs": [
    {
     "name": "stdout",
     "output_type": "stream",
     "text": [
      "rect-L-2-2.nav\n",
      "3\n",
      "0.4168493590297765\n",
      "rect-L-3-2.nav\n",
      "4\n",
      "0.30313778969222727\n",
      "rect-L-4-2.nav\n",
      "5\n",
      "0.2394025359852395\n",
      "closing IdeaStatiCa.RcsRestApi.exe\n"
     ]
    }
   ],
   "source": [
    "# section to calulate\n",
    "section_in_rcs_project = 1\n",
    "reinforced_css_templates = [\"rect-L-2-2.nav\",\"rect-L-3-2.nav\",\"rect-L-4-2.nav\"]\n",
    "# calculate all variants \n",
    "project_calculator.calc_rcs_proj_variants(project_to_calculate, section_in_rcs_project, reinforced_css_templates)"
   ]
  }
 ],
 "metadata": {
  "kernelspec": {
   "display_name": "Python 3 (ipykernel)",
   "language": "python",
   "name": "python3"
  },
  "language_info": {
   "codemirror_mode": {
    "name": "ipython",
    "version": 3
   },
   "file_extension": ".py",
   "mimetype": "text/x-python",
   "name": "python",
   "nbconvert_exporter": "python",
   "pygments_lexer": "ipython3",
   "version": "3.11.5"
  },
  "toc-showtags": true
 },
 "nbformat": 4,
 "nbformat_minor": 5
}
